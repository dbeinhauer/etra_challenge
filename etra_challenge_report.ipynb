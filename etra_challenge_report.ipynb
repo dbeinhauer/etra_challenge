{
 "cells": [
  {
   "cell_type": "raw",
   "metadata": {},
   "source": [
    "title: \"ETRA Challenge Report\"\n",
    "author: David Beinhauer\n",
    "date: \"{{ datetime.now().strftime('%Y-%m-%d') }}\"\n",
    "output:\n",
    "    general:\n",
    "        input: false\n",
    "    html:\n",
    "        toc: true\n",
    "        theme: sandstone"
   ]
  },
  {
   "cell_type": "markdown",
   "metadata": {},
   "source": [
    "# ETRA Challenge Report"
   ]
  },
  {
   "cell_type": "markdown",
   "metadata": {},
   "source": [
    "## Introduction\n",
    "\n",
    "In ETRA Challenge, 8 subjects were tested on various tasks including visual fixation, visual search and visual exploration. \n",
    "Multiple stimuli were presented, such as, natural images, blank scenes or images from \"Where is Waldo\" book.\n",
    "We came up with two, which we want to test:\n",
    "\n",
    "1. There will be difference in eye movement trajectories between variants `Fixation` and `FreeViewing` in the task type `Blank`.\n",
    "2. There will be difference in pupil size based on the task and it will also depend on the time elapsed since the start of the experiment.\n"
   ]
  },
  {
   "cell_type": "markdown",
   "metadata": {},
   "source": [
    "## Data Format\n",
    "\n",
    "The dataset is downloaded into directory `data/` which contains:\n",
    "\n",
    "* `data/` - Directory containing subdirectories with data of each participant stored in CSV files reprezenting each trial. Each file contains 45 seconds of eye tracker data.\n",
    "* `images/` - Contains the pictures shown during the experiment.\n",
    "* `DataSummary.csv` - Each row in the file contains info about the clicks of the given participant during the trial. \n",
    "\n",
    "Description of the dataset is on the page [ETRA dataset description](https://etra.acm.org/2019/challenge.html)."
   ]
  },
  {
   "cell_type": "markdown",
   "metadata": {},
   "source": [
    "# Setup\n",
    "\n",
    "Following part sets up the enviroment to properly run the experiment."
   ]
  },
  {
   "cell_type": "code",
   "execution_count": 1,
   "metadata": {},
   "outputs": [],
   "source": [
    "# Import libraries\n",
    "import pandas as pd\n",
    "import numpy as np\n",
    "import seaborn as sns\n",
    "import scipy.stats as stats\n",
    "import matplotlib.pyplot as plt\n",
    "\n",
    "# Apply the default theme\n",
    "sns.set_theme()"
   ]
  },
  {
   "cell_type": "code",
   "execution_count": 2,
   "metadata": {},
   "outputs": [],
   "source": [
    "# @formatter:off\n",
    "%matplotlib inline\n",
    "# should enable plotting without explicit call .show()\n",
    "\n",
    "%load_ext pretty_jupyter\n",
    "#@formatter:on"
   ]
  },
  {
   "cell_type": "code",
   "execution_count": 3,
   "metadata": {},
   "outputs": [
    {
     "name": "stderr",
     "output_type": "stream",
     "text": [
      "Dataset etra already downloaded.\n",
      "Unpacking etra...\n"
     ]
    }
   ],
   "source": [
    "# Load the dataset using the prepared module `etra.py`.\n",
    "\n",
    "from etra import ETRA\n",
    "\n",
    "dataset = ETRA()"
   ]
  },
  {
   "cell_type": "markdown",
   "metadata": {
    "tags": []
   },
   "source": [
    "## Load Data\n",
    "\n",
    "Following part defines function which easily loads specified data from the dataset based on the `subject`, `fv_fixation` and `task_type` parameters."
   ]
  },
  {
   "cell_type": "code",
   "execution_count": 4,
   "metadata": {},
   "outputs": [],
   "source": [
    "from etra import read_data\n",
    "\n",
    "def load_data(\n",
    "        subject=\"*\",\n",
    "        fv_fixation=\"*\",\n",
    "        task_type=\"*\",\n",
    "    ):\n",
    "    \"\"\"\n",
    "    Loads selected data and sorts them by the time.\n",
    "    \"\"\"\n",
    "    \n",
    "    selected_files = (dataset.data_dir / \"data\").glob(f\"{subject}/*_{fv_fixation}_{task_type}_*.csv\")\n",
    "\n",
    "    return pd.concat((read_data(f) for f in selected_files)).sort_values(by=\"Time\")"
   ]
  },
  {
   "cell_type": "markdown",
   "metadata": {
    "tags": []
   },
   "source": [
    "### Examples: "
   ]
  },
  {
   "cell_type": "code",
   "execution_count": 5,
   "metadata": {},
   "outputs": [],
   "source": [
    "# Load participant `009`, `Fixation` task and type `Waldo`.\n",
    "df_009_fix_waldo = load_data(\n",
    "        subject=\"009\",\n",
    "        fv_fixation=\"Fixation\",\n",
    "        task_type=\"Waldo\",\n",
    "    )"
   ]
  },
  {
   "cell_type": "code",
   "execution_count": 6,
   "metadata": {},
   "outputs": [
    {
     "data": {
      "text/html": [
       "<div>\n",
       "<style scoped>\n",
       "    .dataframe tbody tr th:only-of-type {\n",
       "        vertical-align: middle;\n",
       "    }\n",
       "\n",
       "    .dataframe tbody tr th {\n",
       "        vertical-align: top;\n",
       "    }\n",
       "\n",
       "    .dataframe thead th {\n",
       "        text-align: right;\n",
       "    }\n",
       "</style>\n",
       "<table border=\"1\" class=\"dataframe\">\n",
       "  <thead>\n",
       "    <tr style=\"text-align: right;\">\n",
       "      <th></th>\n",
       "      <th>participant_id</th>\n",
       "      <th>trial_id</th>\n",
       "      <th>fv_fixation</th>\n",
       "      <th>task_type</th>\n",
       "      <th>stimulus_id</th>\n",
       "      <th>Time</th>\n",
       "      <th>LXpix</th>\n",
       "      <th>LYpix</th>\n",
       "      <th>RXpix</th>\n",
       "      <th>RYpix</th>\n",
       "      <th>LXhref</th>\n",
       "      <th>LYhref</th>\n",
       "      <th>RXhref</th>\n",
       "      <th>RYhref</th>\n",
       "      <th>LP</th>\n",
       "      <th>RP</th>\n",
       "    </tr>\n",
       "  </thead>\n",
       "  <tbody>\n",
       "    <tr>\n",
       "      <th>0</th>\n",
       "      <td>009</td>\n",
       "      <td>016</td>\n",
       "      <td>Fixation</td>\n",
       "      <td>Waldo</td>\n",
       "      <td>wal014</td>\n",
       "      <td>1614108</td>\n",
       "      <td>473.22</td>\n",
       "      <td>317.625</td>\n",
       "      <td>468.18</td>\n",
       "      <td>314.700</td>\n",
       "      <td>-802.0</td>\n",
       "      <td>2960.0</td>\n",
       "      <td>-858.0</td>\n",
       "      <td>2931.0</td>\n",
       "      <td>722</td>\n",
       "      <td>903</td>\n",
       "    </tr>\n",
       "    <tr>\n",
       "      <th>1</th>\n",
       "      <td>009</td>\n",
       "      <td>016</td>\n",
       "      <td>Fixation</td>\n",
       "      <td>Waldo</td>\n",
       "      <td>wal014</td>\n",
       "      <td>1614110</td>\n",
       "      <td>473.30</td>\n",
       "      <td>317.775</td>\n",
       "      <td>467.78</td>\n",
       "      <td>314.775</td>\n",
       "      <td>-801.0</td>\n",
       "      <td>2962.0</td>\n",
       "      <td>-862.0</td>\n",
       "      <td>2932.0</td>\n",
       "      <td>720</td>\n",
       "      <td>904</td>\n",
       "    </tr>\n",
       "    <tr>\n",
       "      <th>2</th>\n",
       "      <td>009</td>\n",
       "      <td>016</td>\n",
       "      <td>Fixation</td>\n",
       "      <td>Waldo</td>\n",
       "      <td>wal014</td>\n",
       "      <td>1614112</td>\n",
       "      <td>473.38</td>\n",
       "      <td>317.925</td>\n",
       "      <td>467.46</td>\n",
       "      <td>314.925</td>\n",
       "      <td>-800.0</td>\n",
       "      <td>2963.0</td>\n",
       "      <td>-866.0</td>\n",
       "      <td>2934.0</td>\n",
       "      <td>718</td>\n",
       "      <td>905</td>\n",
       "    </tr>\n",
       "    <tr>\n",
       "      <th>3</th>\n",
       "      <td>009</td>\n",
       "      <td>016</td>\n",
       "      <td>Fixation</td>\n",
       "      <td>Waldo</td>\n",
       "      <td>wal014</td>\n",
       "      <td>1614114</td>\n",
       "      <td>473.30</td>\n",
       "      <td>319.125</td>\n",
       "      <td>465.14</td>\n",
       "      <td>315.750</td>\n",
       "      <td>-800.0</td>\n",
       "      <td>2977.0</td>\n",
       "      <td>-889.0</td>\n",
       "      <td>2945.0</td>\n",
       "      <td>720</td>\n",
       "      <td>910</td>\n",
       "    </tr>\n",
       "    <tr>\n",
       "      <th>4</th>\n",
       "      <td>009</td>\n",
       "      <td>016</td>\n",
       "      <td>Fixation</td>\n",
       "      <td>Waldo</td>\n",
       "      <td>wal014</td>\n",
       "      <td>1614116</td>\n",
       "      <td>474.82</td>\n",
       "      <td>317.550</td>\n",
       "      <td>465.46</td>\n",
       "      <td>316.800</td>\n",
       "      <td>-785.0</td>\n",
       "      <td>2958.0</td>\n",
       "      <td>-886.0</td>\n",
       "      <td>2957.0</td>\n",
       "      <td>723</td>\n",
       "      <td>908</td>\n",
       "    </tr>\n",
       "  </tbody>\n",
       "</table>\n",
       "</div>"
      ],
      "text/plain": [
       "  participant_id trial_id fv_fixation task_type stimulus_id     Time   LXpix  \\\n",
       "0            009      016    Fixation     Waldo      wal014  1614108  473.22   \n",
       "1            009      016    Fixation     Waldo      wal014  1614110  473.30   \n",
       "2            009      016    Fixation     Waldo      wal014  1614112  473.38   \n",
       "3            009      016    Fixation     Waldo      wal014  1614114  473.30   \n",
       "4            009      016    Fixation     Waldo      wal014  1614116  474.82   \n",
       "\n",
       "     LYpix   RXpix    RYpix  LXhref  LYhref  RXhref  RYhref   LP   RP  \n",
       "0  317.625  468.18  314.700  -802.0  2960.0  -858.0  2931.0  722  903  \n",
       "1  317.775  467.78  314.775  -801.0  2962.0  -862.0  2932.0  720  904  \n",
       "2  317.925  467.46  314.925  -800.0  2963.0  -866.0  2934.0  718  905  \n",
       "3  319.125  465.14  315.750  -800.0  2977.0  -889.0  2945.0  720  910  \n",
       "4  317.550  465.46  316.800  -785.0  2958.0  -886.0  2957.0  723  908  "
      ]
     },
     "execution_count": 6,
     "metadata": {},
     "output_type": "execute_result"
    }
   ],
   "source": [
    "df_009_fix_waldo.head()"
   ]
  },
  {
   "cell_type": "code",
   "execution_count": 7,
   "metadata": {},
   "outputs": [],
   "source": [
    "# Load `Waldo` data from all the participants and both `Fixation` and `FreeViewing`.\n",
    "df_waldo = load_data(        \n",
    "        task_type=\"Waldo\",\n",
    "    )"
   ]
  },
  {
   "cell_type": "code",
   "execution_count": 8,
   "metadata": {},
   "outputs": [
    {
     "data": {
      "text/html": [
       "<div>\n",
       "<style scoped>\n",
       "    .dataframe tbody tr th:only-of-type {\n",
       "        vertical-align: middle;\n",
       "    }\n",
       "\n",
       "    .dataframe tbody tr th {\n",
       "        vertical-align: top;\n",
       "    }\n",
       "\n",
       "    .dataframe thead th {\n",
       "        text-align: right;\n",
       "    }\n",
       "</style>\n",
       "<table border=\"1\" class=\"dataframe\">\n",
       "  <thead>\n",
       "    <tr style=\"text-align: right;\">\n",
       "      <th></th>\n",
       "      <th>participant_id</th>\n",
       "      <th>trial_id</th>\n",
       "      <th>fv_fixation</th>\n",
       "      <th>task_type</th>\n",
       "      <th>stimulus_id</th>\n",
       "      <th>Time</th>\n",
       "      <th>LXpix</th>\n",
       "      <th>LYpix</th>\n",
       "      <th>RXpix</th>\n",
       "      <th>RYpix</th>\n",
       "      <th>LXhref</th>\n",
       "      <th>LYhref</th>\n",
       "      <th>RXhref</th>\n",
       "      <th>RYhref</th>\n",
       "      <th>LP</th>\n",
       "      <th>RP</th>\n",
       "    </tr>\n",
       "  </thead>\n",
       "  <tbody>\n",
       "    <tr>\n",
       "      <th>0</th>\n",
       "      <td>062</td>\n",
       "      <td>001</td>\n",
       "      <td>Fixation</td>\n",
       "      <td>Waldo</td>\n",
       "      <td>wal002</td>\n",
       "      <td>262296</td>\n",
       "      <td>461.70</td>\n",
       "      <td>297.375</td>\n",
       "      <td>467.62</td>\n",
       "      <td>299.550</td>\n",
       "      <td>-1418.0</td>\n",
       "      <td>3197.0</td>\n",
       "      <td>-1353.0</td>\n",
       "      <td>3218.0</td>\n",
       "      <td>744</td>\n",
       "      <td>962</td>\n",
       "    </tr>\n",
       "    <tr>\n",
       "      <th>1</th>\n",
       "      <td>062</td>\n",
       "      <td>001</td>\n",
       "      <td>Fixation</td>\n",
       "      <td>Waldo</td>\n",
       "      <td>wal002</td>\n",
       "      <td>262298</td>\n",
       "      <td>462.58</td>\n",
       "      <td>298.875</td>\n",
       "      <td>469.06</td>\n",
       "      <td>300.825</td>\n",
       "      <td>-1425.0</td>\n",
       "      <td>3197.0</td>\n",
       "      <td>-1354.0</td>\n",
       "      <td>3216.0</td>\n",
       "      <td>744</td>\n",
       "      <td>963</td>\n",
       "    </tr>\n",
       "    <tr>\n",
       "      <th>2</th>\n",
       "      <td>062</td>\n",
       "      <td>001</td>\n",
       "      <td>Fixation</td>\n",
       "      <td>Waldo</td>\n",
       "      <td>wal002</td>\n",
       "      <td>262300</td>\n",
       "      <td>463.22</td>\n",
       "      <td>298.650</td>\n",
       "      <td>468.98</td>\n",
       "      <td>301.125</td>\n",
       "      <td>-1418.0</td>\n",
       "      <td>3194.0</td>\n",
       "      <td>-1355.0</td>\n",
       "      <td>3220.0</td>\n",
       "      <td>746</td>\n",
       "      <td>961</td>\n",
       "    </tr>\n",
       "    <tr>\n",
       "      <th>3</th>\n",
       "      <td>062</td>\n",
       "      <td>001</td>\n",
       "      <td>Fixation</td>\n",
       "      <td>Waldo</td>\n",
       "      <td>wal002</td>\n",
       "      <td>262302</td>\n",
       "      <td>463.22</td>\n",
       "      <td>299.400</td>\n",
       "      <td>469.46</td>\n",
       "      <td>301.050</td>\n",
       "      <td>-1418.0</td>\n",
       "      <td>3203.0</td>\n",
       "      <td>-1350.0</td>\n",
       "      <td>3219.0</td>\n",
       "      <td>747</td>\n",
       "      <td>961</td>\n",
       "    </tr>\n",
       "    <tr>\n",
       "      <th>4</th>\n",
       "      <td>062</td>\n",
       "      <td>001</td>\n",
       "      <td>Fixation</td>\n",
       "      <td>Waldo</td>\n",
       "      <td>wal002</td>\n",
       "      <td>262304</td>\n",
       "      <td>462.58</td>\n",
       "      <td>299.250</td>\n",
       "      <td>469.30</td>\n",
       "      <td>302.025</td>\n",
       "      <td>-1425.0</td>\n",
       "      <td>3201.0</td>\n",
       "      <td>-1352.0</td>\n",
       "      <td>3230.0</td>\n",
       "      <td>747</td>\n",
       "      <td>962</td>\n",
       "    </tr>\n",
       "  </tbody>\n",
       "</table>\n",
       "</div>"
      ],
      "text/plain": [
       "  participant_id trial_id fv_fixation task_type stimulus_id    Time   LXpix  \\\n",
       "0            062      001    Fixation     Waldo      wal002  262296  461.70   \n",
       "1            062      001    Fixation     Waldo      wal002  262298  462.58   \n",
       "2            062      001    Fixation     Waldo      wal002  262300  463.22   \n",
       "3            062      001    Fixation     Waldo      wal002  262302  463.22   \n",
       "4            062      001    Fixation     Waldo      wal002  262304  462.58   \n",
       "\n",
       "     LYpix   RXpix    RYpix  LXhref  LYhref  RXhref  RYhref   LP   RP  \n",
       "0  297.375  467.62  299.550 -1418.0  3197.0 -1353.0  3218.0  744  962  \n",
       "1  298.875  469.06  300.825 -1425.0  3197.0 -1354.0  3216.0  744  963  \n",
       "2  298.650  468.98  301.125 -1418.0  3194.0 -1355.0  3220.0  746  961  \n",
       "3  299.400  469.46  301.050 -1418.0  3203.0 -1350.0  3219.0  747  961  \n",
       "4  299.250  469.30  302.025 -1425.0  3201.0 -1352.0  3230.0  747  962  "
      ]
     },
     "execution_count": 8,
     "metadata": {},
     "output_type": "execute_result"
    }
   ],
   "source": [
    "df_waldo.head()"
   ]
  },
  {
   "cell_type": "markdown",
   "metadata": {},
   "source": [
    "# Hypotheses\n",
    "\n",
    "Following part describes the hypotheses and its testing."
   ]
  },
  {
   "cell_type": "markdown",
   "metadata": {},
   "source": [
    "## Hypothesis 1: \n",
    "### \"There will be difference in eye movement trajectories between variants `Fixation` and `FreeViewing` in the task type `Blank`.\"\n",
    "\n",
    "During the task `Fixation` participants must keep their focus on the fixed point of the screen. \n",
    "On the other hand during `FreeViewing` task they are able to move their eyes in any direction. \n",
    "We expect that the trajectory of the eye movement will differ in the puzzle task types (`Puzzle` and `Waldo`), \n",
    "because it would be imposible to solve the puzzle without moving the eyes (for `FreeViewing` part).\n",
    "We also expect that the participant would discover the picture in the task type `Natural` and the trajectories would differ too.\n",
    "\n",
    "The interesting example could be the task type `Blank`. In this task there is nothing in the picture just blank picture.\n",
    "The participant during the `FreeViewing` task could either stare on the fixed point of the picture which would lead \n",
    "to same trajectories as in the `Fixation` tasks or randomly fluctuate their focus on the picture.\n",
    "This idea is the main motivation to test the hypothesis above.\n",
    "\n",
    "\n",
    "(Note: The original hypothesis was that the trajectories would differ in the tasks `Puzzle` and `Waldo`. \n",
    "However, the hypothesis was based on the wrong understanding of the task `Fixation` for the types `Puzzle` and `Waldo` \n",
    "and it does not make much sense to test this hypothesis now (it would almost certaily lead into the difference of the trajectories.\n",
    "This is the reason why we decided to change to hypothesis to the one described above.)"
   ]
  },
  {
   "cell_type": "markdown",
   "metadata": {},
   "source": [
    "### Data Preparation\n",
    "\n",
    "For this experiment, we choose only the data of the task type `Blank` from the arbitrary choosen participant `009`. Then we extracted and the information about the\n",
    "time, the parameter `fv_fixation`, ID of the trial and the coordinates of the left eye focus (`LXpix`, `LYpix`), renamed the parameter\n",
    "names for the convenient usage and normalized the time.\n",
    "\n",
    "We have choosen only one participant, because of the selected statistical tests which assume independent variables. That condition will not be fulfilled for the multiple participants. "
   ]
  },
  {
   "cell_type": "code",
   "execution_count": 38,
   "metadata": {},
   "outputs": [],
   "source": [
    "hyp1_var = load_data(subject=\"009\", task_type=\"Blank\")"
   ]
  },
  {
   "cell_type": "code",
   "execution_count": 39,
   "metadata": {
    "tags": []
   },
   "outputs": [
    {
     "data": {
      "text/html": [
       "<div>\n",
       "<style scoped>\n",
       "    .dataframe tbody tr th:only-of-type {\n",
       "        vertical-align: middle;\n",
       "    }\n",
       "\n",
       "    .dataframe tbody tr th {\n",
       "        vertical-align: top;\n",
       "    }\n",
       "\n",
       "    .dataframe thead th {\n",
       "        text-align: right;\n",
       "    }\n",
       "</style>\n",
       "<table border=\"1\" class=\"dataframe\">\n",
       "  <thead>\n",
       "    <tr style=\"text-align: right;\">\n",
       "      <th></th>\n",
       "      <th>participant_id</th>\n",
       "      <th>trial_id</th>\n",
       "      <th>fv_fixation</th>\n",
       "      <th>task_type</th>\n",
       "      <th>stimulus_id</th>\n",
       "      <th>Time</th>\n",
       "      <th>LXpix</th>\n",
       "      <th>LYpix</th>\n",
       "      <th>RXpix</th>\n",
       "      <th>RYpix</th>\n",
       "      <th>LXhref</th>\n",
       "      <th>LYhref</th>\n",
       "      <th>RXhref</th>\n",
       "      <th>RYhref</th>\n",
       "      <th>LP</th>\n",
       "      <th>RP</th>\n",
       "    </tr>\n",
       "  </thead>\n",
       "  <tbody>\n",
       "    <tr>\n",
       "      <th>0</th>\n",
       "      <td>009</td>\n",
       "      <td>004</td>\n",
       "      <td>FreeViewing</td>\n",
       "      <td>Blank</td>\n",
       "      <td>grey</td>\n",
       "      <td>524232</td>\n",
       "      <td>533.22</td>\n",
       "      <td>245.775</td>\n",
       "      <td>523.70</td>\n",
       "      <td>235.050</td>\n",
       "      <td>566.0</td>\n",
       "      <td>521.0</td>\n",
       "      <td>454.0</td>\n",
       "      <td>413.0</td>\n",
       "      <td>823</td>\n",
       "      <td>964</td>\n",
       "    </tr>\n",
       "    <tr>\n",
       "      <th>1</th>\n",
       "      <td>009</td>\n",
       "      <td>004</td>\n",
       "      <td>FreeViewing</td>\n",
       "      <td>Blank</td>\n",
       "      <td>grey</td>\n",
       "      <td>524234</td>\n",
       "      <td>533.94</td>\n",
       "      <td>246.300</td>\n",
       "      <td>523.38</td>\n",
       "      <td>233.925</td>\n",
       "      <td>573.0</td>\n",
       "      <td>525.0</td>\n",
       "      <td>449.0</td>\n",
       "      <td>401.0</td>\n",
       "      <td>820</td>\n",
       "      <td>973</td>\n",
       "    </tr>\n",
       "    <tr>\n",
       "      <th>2</th>\n",
       "      <td>009</td>\n",
       "      <td>004</td>\n",
       "      <td>FreeViewing</td>\n",
       "      <td>Blank</td>\n",
       "      <td>grey</td>\n",
       "      <td>524236</td>\n",
       "      <td>531.94</td>\n",
       "      <td>247.200</td>\n",
       "      <td>521.78</td>\n",
       "      <td>233.475</td>\n",
       "      <td>553.0</td>\n",
       "      <td>538.0</td>\n",
       "      <td>432.0</td>\n",
       "      <td>398.0</td>\n",
       "      <td>823</td>\n",
       "      <td>964</td>\n",
       "    </tr>\n",
       "    <tr>\n",
       "      <th>3</th>\n",
       "      <td>009</td>\n",
       "      <td>004</td>\n",
       "      <td>FreeViewing</td>\n",
       "      <td>Blank</td>\n",
       "      <td>grey</td>\n",
       "      <td>524238</td>\n",
       "      <td>533.30</td>\n",
       "      <td>246.600</td>\n",
       "      <td>523.38</td>\n",
       "      <td>238.650</td>\n",
       "      <td>566.0</td>\n",
       "      <td>530.0</td>\n",
       "      <td>454.0</td>\n",
       "      <td>452.0</td>\n",
       "      <td>824</td>\n",
       "      <td>977</td>\n",
       "    </tr>\n",
       "    <tr>\n",
       "      <th>4</th>\n",
       "      <td>009</td>\n",
       "      <td>004</td>\n",
       "      <td>FreeViewing</td>\n",
       "      <td>Blank</td>\n",
       "      <td>grey</td>\n",
       "      <td>524240</td>\n",
       "      <td>532.02</td>\n",
       "      <td>247.575</td>\n",
       "      <td>524.34</td>\n",
       "      <td>238.725</td>\n",
       "      <td>554.0</td>\n",
       "      <td>542.0</td>\n",
       "      <td>464.0</td>\n",
       "      <td>452.0</td>\n",
       "      <td>823</td>\n",
       "      <td>977</td>\n",
       "    </tr>\n",
       "  </tbody>\n",
       "</table>\n",
       "</div>"
      ],
      "text/plain": [
       "  participant_id trial_id  fv_fixation task_type stimulus_id    Time   LXpix  \\\n",
       "0            009      004  FreeViewing     Blank        grey  524232  533.22   \n",
       "1            009      004  FreeViewing     Blank        grey  524234  533.94   \n",
       "2            009      004  FreeViewing     Blank        grey  524236  531.94   \n",
       "3            009      004  FreeViewing     Blank        grey  524238  533.30   \n",
       "4            009      004  FreeViewing     Blank        grey  524240  532.02   \n",
       "\n",
       "     LYpix   RXpix    RYpix  LXhref  LYhref  RXhref  RYhref   LP   RP  \n",
       "0  245.775  523.70  235.050   566.0   521.0   454.0   413.0  823  964  \n",
       "1  246.300  523.38  233.925   573.0   525.0   449.0   401.0  820  973  \n",
       "2  247.200  521.78  233.475   553.0   538.0   432.0   398.0  823  964  \n",
       "3  246.600  523.38  238.650   566.0   530.0   454.0   452.0  824  977  \n",
       "4  247.575  524.34  238.725   554.0   542.0   464.0   452.0  823  977  "
      ]
     },
     "execution_count": 39,
     "metadata": {},
     "output_type": "execute_result"
    }
   ],
   "source": [
    "hyp1_var.head()"
   ]
  },
  {
   "cell_type": "code",
   "execution_count": 40,
   "metadata": {
    "tags": []
   },
   "outputs": [],
   "source": [
    "# Rename the parameters for the future usage.\n",
    "hyp1_var = hyp1_var\\\n",
    "    .rename(\n",
    "        {\n",
    "            \"Time\": \"time\",\n",
    "            \"fv_fixation\" : \"fv_fixation\",\n",
    "            \"trial_id\": \"trial\",\n",
    "            \"LXpix\": \"x\", \n",
    "            \"LYpix\": \"y\",\n",
    "        },\n",
    "        axis = 1\n",
    "    )\n",
    "\n",
    "# Drop the redundant parameters.\n",
    "hyp1_var = hyp1_var\\\n",
    "    [\n",
    "        [\n",
    "            \"time\",\n",
    "            \"trial\",\n",
    "            \"fv_fixation\",\n",
    "            \"x\",\n",
    "            \"y\",\n",
    "        ]\n",
    "    ]\n",
    "\n",
    "# Time normalization (to start from 0).\n",
    "hyp1_var[\"time\"] = hyp1_var.groupby([\"trial\"])[\"time\"].transform(lambda x: x - x.min())"
   ]
  },
  {
   "cell_type": "markdown",
   "metadata": {},
   "source": [
    "In order to compare the trajectories we "
   ]
  },
  {
   "cell_type": "code",
   "execution_count": 9,
   "metadata": {},
   "outputs": [],
   "source": [
    "def create_interval_means(\n",
    "        data : pd.DataFrame,\n",
    "        x_col=\"x\",\n",
    "        y_col=\"y\",\n",
    "        interval_size=40,\n",
    "    ):\n",
    "    \"\"\"\n",
    "    Creates new table of means for intervals of the size `interval_size`.\n",
    "    \"\"\"\n",
    "    \n",
    "    num_rows = data.shape[0]\n",
    "\n",
    "    datas = []\n",
    "\n",
    "    for start_point in range(0, num_rows, interval_size):\n",
    "        slice_data = data.loc[start_point:min(start_point + interval_size, num_rows - 1), (\"x\", \"y\")]\n",
    "        if not slice_data.empty:\n",
    "            interval_means = slice_data.mean()\n",
    "            datas.append(interval_means)\n",
    "    \n",
    "    return pd.DataFrame(datas)"
   ]
  },
  {
   "cell_type": "code",
   "execution_count": 10,
   "metadata": {},
   "outputs": [],
   "source": [
    "def compute_distance(\n",
    "        data : pd.DataFrame,\n",
    "        x_col=\"x\",\n",
    "        y_col=\"y\",\n",
    "        dist_name=\"distance\",\n",
    "    ):\n",
    "\n",
    "    # Compute distance between consecutive pairs of points\n",
    "    data[dist_name] = np.sqrt((data[x_col] - data[x_col].shift())**2 + (data[y_col] - data[y_col].shift())**2)\n",
    "\n",
    "    # Remove the first row, which has a NaN value for distance\n",
    "    return data.dropna()"
   ]
  },
  {
   "cell_type": "code",
   "execution_count": 26,
   "metadata": {},
   "outputs": [],
   "source": [
    "hyp1_var_avg_x_y = hyp1_var\\\n",
    "    .groupby([\"trial\", \"fv_fixation\"])\\\n",
    "    .apply(create_interval_means)\\\n",
    "    .reset_index()\\\n",
    "    # .rename(columns={\"level_2\": \"time\"})"
   ]
  },
  {
   "cell_type": "code",
   "execution_count": 28,
   "metadata": {},
   "outputs": [
    {
     "data": {
      "text/html": [
       "<div>\n",
       "<style scoped>\n",
       "    .dataframe tbody tr th:only-of-type {\n",
       "        vertical-align: middle;\n",
       "    }\n",
       "\n",
       "    .dataframe tbody tr th {\n",
       "        vertical-align: top;\n",
       "    }\n",
       "\n",
       "    .dataframe thead th {\n",
       "        text-align: right;\n",
       "    }\n",
       "</style>\n",
       "<table border=\"1\" class=\"dataframe\">\n",
       "  <thead>\n",
       "    <tr style=\"text-align: right;\">\n",
       "      <th></th>\n",
       "      <th>trial</th>\n",
       "      <th>fv_fixation</th>\n",
       "      <th>level_2</th>\n",
       "      <th>x</th>\n",
       "      <th>y</th>\n",
       "    </tr>\n",
       "  </thead>\n",
       "  <tbody>\n",
       "    <tr>\n",
       "      <th>0</th>\n",
       "      <td>004</td>\n",
       "      <td>FreeViewing</td>\n",
       "      <td>0</td>\n",
       "      <td>532.423902</td>\n",
       "      <td>246.609146</td>\n",
       "    </tr>\n",
       "    <tr>\n",
       "      <th>1</th>\n",
       "      <td>004</td>\n",
       "      <td>FreeViewing</td>\n",
       "      <td>1</td>\n",
       "      <td>533.850244</td>\n",
       "      <td>245.286585</td>\n",
       "    </tr>\n",
       "    <tr>\n",
       "      <th>2</th>\n",
       "      <td>004</td>\n",
       "      <td>FreeViewing</td>\n",
       "      <td>2</td>\n",
       "      <td>531.584878</td>\n",
       "      <td>245.006707</td>\n",
       "    </tr>\n",
       "    <tr>\n",
       "      <th>3</th>\n",
       "      <td>004</td>\n",
       "      <td>FreeViewing</td>\n",
       "      <td>3</td>\n",
       "      <td>497.715610</td>\n",
       "      <td>277.293293</td>\n",
       "    </tr>\n",
       "    <tr>\n",
       "      <th>4</th>\n",
       "      <td>004</td>\n",
       "      <td>FreeViewing</td>\n",
       "      <td>4</td>\n",
       "      <td>469.668780</td>\n",
       "      <td>301.732317</td>\n",
       "    </tr>\n",
       "    <tr>\n",
       "      <th>...</th>\n",
       "      <td>...</td>\n",
       "      <td>...</td>\n",
       "      <td>...</td>\n",
       "      <td>...</td>\n",
       "      <td>...</td>\n",
       "    </tr>\n",
       "    <tr>\n",
       "      <th>16885</th>\n",
       "      <td>120</td>\n",
       "      <td>Fixation</td>\n",
       "      <td>558</td>\n",
       "      <td>465.198537</td>\n",
       "      <td>314.454878</td>\n",
       "    </tr>\n",
       "    <tr>\n",
       "      <th>16886</th>\n",
       "      <td>120</td>\n",
       "      <td>Fixation</td>\n",
       "      <td>559</td>\n",
       "      <td>463.992683</td>\n",
       "      <td>314.912195</td>\n",
       "    </tr>\n",
       "    <tr>\n",
       "      <th>16887</th>\n",
       "      <td>120</td>\n",
       "      <td>Fixation</td>\n",
       "      <td>560</td>\n",
       "      <td>464.578049</td>\n",
       "      <td>314.921341</td>\n",
       "    </tr>\n",
       "    <tr>\n",
       "      <th>16888</th>\n",
       "      <td>120</td>\n",
       "      <td>Fixation</td>\n",
       "      <td>561</td>\n",
       "      <td>464.642439</td>\n",
       "      <td>316.033537</td>\n",
       "    </tr>\n",
       "    <tr>\n",
       "      <th>16889</th>\n",
       "      <td>120</td>\n",
       "      <td>Fixation</td>\n",
       "      <td>562</td>\n",
       "      <td>464.970000</td>\n",
       "      <td>316.537500</td>\n",
       "    </tr>\n",
       "  </tbody>\n",
       "</table>\n",
       "<p>16890 rows × 5 columns</p>\n",
       "</div>"
      ],
      "text/plain": [
       "      trial  fv_fixation  level_2           x           y\n",
       "0       004  FreeViewing        0  532.423902  246.609146\n",
       "1       004  FreeViewing        1  533.850244  245.286585\n",
       "2       004  FreeViewing        2  531.584878  245.006707\n",
       "3       004  FreeViewing        3  497.715610  277.293293\n",
       "4       004  FreeViewing        4  469.668780  301.732317\n",
       "...     ...          ...      ...         ...         ...\n",
       "16885   120     Fixation      558  465.198537  314.454878\n",
       "16886   120     Fixation      559  463.992683  314.912195\n",
       "16887   120     Fixation      560  464.578049  314.921341\n",
       "16888   120     Fixation      561  464.642439  316.033537\n",
       "16889   120     Fixation      562  464.970000  316.537500\n",
       "\n",
       "[16890 rows x 5 columns]"
      ]
     },
     "execution_count": 28,
     "metadata": {},
     "output_type": "execute_result"
    }
   ],
   "source": [
    "hyp1_var_avg_x_y"
   ]
  },
  {
   "cell_type": "code",
   "execution_count": 30,
   "metadata": {},
   "outputs": [],
   "source": [
    "hyp1_var_avg_x_y = hyp1_var_avg_x_y\\\n",
    "    .groupby([\"trial\", \"fv_fixation\"])\\\n",
    "    .apply(compute_distance)\\\n",
    "    .reset_index(drop=True)\\\n",
    "    .groupby([\"trial\", \"fv_fixation\"])\\\n",
    "    .agg(avg_distance=(\"distance\", np.mean))\\\n",
    "    .reset_index()\\\n",
    "    .drop(\"trial\", axis=1)"
   ]
  },
  {
   "cell_type": "code",
   "execution_count": 32,
   "metadata": {},
   "outputs": [
    {
     "data": {
      "text/html": [
       "<div>\n",
       "<style scoped>\n",
       "    .dataframe tbody tr th:only-of-type {\n",
       "        vertical-align: middle;\n",
       "    }\n",
       "\n",
       "    .dataframe tbody tr th {\n",
       "        vertical-align: top;\n",
       "    }\n",
       "\n",
       "    .dataframe thead th {\n",
       "        text-align: right;\n",
       "    }\n",
       "</style>\n",
       "<table border=\"1\" class=\"dataframe\">\n",
       "  <thead>\n",
       "    <tr style=\"text-align: right;\">\n",
       "      <th></th>\n",
       "      <th>fv_fixation</th>\n",
       "      <th>avg_distance</th>\n",
       "    </tr>\n",
       "  </thead>\n",
       "  <tbody>\n",
       "    <tr>\n",
       "      <th>0</th>\n",
       "      <td>FreeViewing</td>\n",
       "      <td>18.779589</td>\n",
       "    </tr>\n",
       "    <tr>\n",
       "      <th>1</th>\n",
       "      <td>Fixation</td>\n",
       "      <td>2.152027</td>\n",
       "    </tr>\n",
       "    <tr>\n",
       "      <th>2</th>\n",
       "      <td>FreeViewing</td>\n",
       "      <td>26.410330</td>\n",
       "    </tr>\n",
       "    <tr>\n",
       "      <th>3</th>\n",
       "      <td>Fixation</td>\n",
       "      <td>3.568943</td>\n",
       "    </tr>\n",
       "    <tr>\n",
       "      <th>4</th>\n",
       "      <td>FreeViewing</td>\n",
       "      <td>34.340202</td>\n",
       "    </tr>\n",
       "  </tbody>\n",
       "</table>\n",
       "</div>"
      ],
      "text/plain": [
       "   fv_fixation  avg_distance\n",
       "0  FreeViewing     18.779589\n",
       "1     Fixation      2.152027\n",
       "2  FreeViewing     26.410330\n",
       "3     Fixation      3.568943\n",
       "4  FreeViewing     34.340202"
      ]
     },
     "execution_count": 32,
     "metadata": {},
     "output_type": "execute_result"
    }
   ],
   "source": [
    "hyp1_var_avg_x_y.head()"
   ]
  },
  {
   "cell_type": "code",
   "execution_count": 33,
   "metadata": {},
   "outputs": [
    {
     "data": {
      "text/html": [
       "<div>\n",
       "<style scoped>\n",
       "    .dataframe tbody tr th:only-of-type {\n",
       "        vertical-align: middle;\n",
       "    }\n",
       "\n",
       "    .dataframe tbody tr th {\n",
       "        vertical-align: top;\n",
       "    }\n",
       "\n",
       "    .dataframe thead tr th {\n",
       "        text-align: left;\n",
       "    }\n",
       "\n",
       "    .dataframe thead tr:last-of-type th {\n",
       "        text-align: right;\n",
       "    }\n",
       "</style>\n",
       "<table border=\"1\" class=\"dataframe\">\n",
       "  <thead>\n",
       "    <tr>\n",
       "      <th></th>\n",
       "      <th colspan=\"8\" halign=\"left\">avg_distance</th>\n",
       "    </tr>\n",
       "    <tr>\n",
       "      <th></th>\n",
       "      <th>count</th>\n",
       "      <th>mean</th>\n",
       "      <th>std</th>\n",
       "      <th>min</th>\n",
       "      <th>25%</th>\n",
       "      <th>50%</th>\n",
       "      <th>75%</th>\n",
       "      <th>max</th>\n",
       "    </tr>\n",
       "    <tr>\n",
       "      <th>fv_fixation</th>\n",
       "      <th></th>\n",
       "      <th></th>\n",
       "      <th></th>\n",
       "      <th></th>\n",
       "      <th></th>\n",
       "      <th></th>\n",
       "      <th></th>\n",
       "      <th></th>\n",
       "    </tr>\n",
       "  </thead>\n",
       "  <tbody>\n",
       "    <tr>\n",
       "      <th>Fixation</th>\n",
       "      <td>15.0</td>\n",
       "      <td>3.80</td>\n",
       "      <td>1.63</td>\n",
       "      <td>2.15</td>\n",
       "      <td>2.60</td>\n",
       "      <td>3.05</td>\n",
       "      <td>5.10</td>\n",
       "      <td>6.62</td>\n",
       "    </tr>\n",
       "    <tr>\n",
       "      <th>FreeViewing</th>\n",
       "      <td>15.0</td>\n",
       "      <td>19.21</td>\n",
       "      <td>7.52</td>\n",
       "      <td>10.15</td>\n",
       "      <td>12.68</td>\n",
       "      <td>17.77</td>\n",
       "      <td>24.62</td>\n",
       "      <td>34.34</td>\n",
       "    </tr>\n",
       "  </tbody>\n",
       "</table>\n",
       "</div>"
      ],
      "text/plain": [
       "            avg_distance                                                \n",
       "                   count   mean   std    min    25%    50%    75%    max\n",
       "fv_fixation                                                             \n",
       "Fixation            15.0   3.80  1.63   2.15   2.60   3.05   5.10   6.62\n",
       "FreeViewing         15.0  19.21  7.52  10.15  12.68  17.77  24.62  34.34"
      ]
     },
     "execution_count": 33,
     "metadata": {},
     "output_type": "execute_result"
    }
   ],
   "source": [
    "hyp1_var_avg_x_y.groupby(\"fv_fixation\").describe().round(decimals=2)"
   ]
  },
  {
   "cell_type": "code",
   "execution_count": 34,
   "metadata": {},
   "outputs": [
    {
     "data": {
      "text/plain": [
       "<seaborn.axisgrid.FacetGrid at 0x7fed9643f750>"
      ]
     },
     "execution_count": 34,
     "metadata": {},
     "output_type": "execute_result"
    },
    {
     "data": {
      "image/png": "[encoded data removed]",
      "text/plain": [
       "<Figure size 647.5x500 with 1 Axes>"
      ]
     },
     "metadata": {},
     "output_type": "display_data"
    }
   ],
   "source": [
    "g = sns.displot(\n",
    "    data=hyp1_var_avg_x_y,#[hyp1_var_avg_x_y.fv_fixation == \"FreeViewing\"],\n",
    "    x='avg_distance',\n",
    "    hue='fv_fixation',\n",
    "    # col=\"task\",\n",
    "    kind=\"kde\",\n",
    "    # kde=True,\n",
    "\n",
    "    )\n",
    "g.set_xlabels(\"Average distance traveled in between 40 ms intervals\")\n",
    "g.set_ylabels(\"Count\")"
   ]
  },
  {
   "cell_type": "code",
   "execution_count": 35,
   "metadata": {},
   "outputs": [
    {
     "name": "stdout",
     "output_type": "stream",
     "text": [
      "Ttest_relResult(statistic=7.271282199491521, pvalue=4.086946700927297e-06)\n",
      "RanksumsResult(statistic=4.666282626286914, pvalue=3.0669777654622667e-06)\n"
     ]
    }
   ],
   "source": [
    "ttest_result = stats.ttest_rel(\n",
    "    hyp1_var_avg_x_y[(hyp1_var_avg_x_y.fv_fixation == \"FreeViewing\")].avg_distance,\n",
    "    hyp1_var_avg_x_y[(hyp1_var_avg_x_y.fv_fixation == \"Fixation\")].avg_distance,\n",
    ")\n",
    "\n",
    "wilcoxon_result = stats.ranksums(\n",
    "    hyp1_var_avg_x_y[(hyp1_var_avg_x_y.fv_fixation == \"FreeViewing\")].avg_distance,\n",
    "    hyp1_var_avg_x_y[(hyp1_var_avg_x_y.fv_fixation == \"Fixation\")].avg_distance,\n",
    ")\n",
    "\n",
    "print(ttest_result)\n",
    "print(wilcoxon_result)"
   ]
  },
  {
   "cell_type": "code",
   "execution_count": 36,
   "metadata": {
    "tags": []
   },
   "outputs": [],
   "source": [
    "# for task in [\"Puzzle\", \"Waldo\"]:\n",
    "#     ttest_result = stats.ttest_rel(\n",
    "#         hyp1_var_avg_x_y[(hyp1_var_avg_x_y.fv_fixation == \"FreeViewing\") & (hyp1_var_avg_x_y.task == task)].avg_distance,\n",
    "#         hyp1_var_avg_x_y[(hyp1_var_avg_x_y.fv_fixation == \"Fixation\") & (hyp1_var_avg_x_y.task == task)].avg_distance,\n",
    "#     )\n",
    "    \n",
    "#     wilcoxon_result = stats.ranksums(\n",
    "#         hyp1_var_avg_x_y[(hyp1_var_avg_x_y.fv_fixation == \"FreeViewing\") & (hyp1_var_avg_x_y.task == task)].avg_distance,\n",
    "#         hyp1_var_avg_x_y[(hyp1_var_avg_x_y.fv_fixation == \"Fixation\") & (hyp1_var_avg_x_y.task == task)].avg_distance,\n",
    "#     )\n",
    "    \n",
    "#     print(ttest_result)\n",
    "#     print(wilcoxon_result)"
   ]
  },
  {
   "cell_type": "markdown",
   "metadata": {},
   "source": [
    "### Hypotéza 2:\n",
    "\"Pupil size\" se bude lišit v závislosti na variantě úlohy a  době pozorování jednotlivých obrázků (\"Blank\", \"Natural\", \"Puzzle\", \"Waldo)."
   ]
  },
  {
   "cell_type": "markdown",
   "metadata": {},
   "source": [
    "### Hypotheses to test:\n",
    "\n",
    "Null hypothese: Pupil size is the same for the fixed scene X and arbitraty choosen other scene Y.\n",
    "Alternative hypothese: Pupil size is different for the fixed scene X and arbitrary choosen other scene Y.\n",
    "\n",
    "We have choosen scene \"Blank\" as a fixed scene X and rest of the scenes as Y to check."
   ]
  },
  {
   "cell_type": "markdown",
   "metadata": {},
   "source": [
    "Nejprve musíme umět odstranit mrknutí, \n",
    "které způsobují problémy především při testování hypotézy 2."
   ]
  },
  {
   "cell_type": "code",
   "execution_count": null,
   "metadata": {},
   "outputs": [],
   "source": [
    "def remove_blinks(\n",
    "        data : pd.DataFrame,\n",
    "        pupil_column='lp',\n",
    "        blink_treshold=100,\n",
    "        blink_duration=40,\n",
    "    ):\n",
    "    \"\"\"\n",
    "    Removes all blink candidates from the dataset.\n",
    "    \n",
    "    Arguments:\n",
    "        TODO:\n",
    "    \"\"\"\n",
    "    \n",
    "    new_data = data.copy()\n",
    "    num_rows = new_data.shape[0]\n",
    "    \n",
    "    # Find all time candidates for the blink (lower than `blink_treshold`).\n",
    "    blink_peaks = np.where(new_data[pupil_column].lt(blink_treshold))[0]\n",
    "    for peak in blink_peaks:\n",
    "        # For each blink candidate get rid of the times around the blink\n",
    "        # (to eliminate whole blinking interval).\n",
    "        new_data\\\n",
    "            .loc[\n",
    "                max(0, peak - blink_duration):\n",
    "                    min(peak + blink_duration, num_rows),\n",
    "                pupil_column\n",
    "            ] = pd.NA\n",
    "    \n",
    "    return new_data.dropna()"
   ]
  },
  {
   "cell_type": "code",
   "execution_count": null,
   "metadata": {},
   "outputs": [],
   "source": [
    "# We choose only subject '009' because we want to use t-test.\n",
    "hyp2_var = load_data(subject=\"009\", fv_fixation=\"FreeViewing\", task_type=\"*\")\n",
    "\n",
    "hyp2_var = hyp2_var.rename(\n",
    "        {\n",
    "            \"Time\": \"time\",\n",
    "            # \"participant_id\": \"participant\",\n",
    "            \"trial_id\": \"trial\",\n",
    "            \"task_type\": \"task\",\n",
    "            \"LP\": \"lp\",\n",
    "        },\n",
    "        axis = 1\n",
    "    )\n",
    "\n",
    "# Get only necessary parameters. Choose only right pupil.\n",
    "hyp2_var = hyp2_var\\\n",
    "    [\n",
    "        [\n",
    "            \"time\",\n",
    "            # \"participant\",\n",
    "            \"trial\",\n",
    "            \"task\",\n",
    "            \"lp\",\n",
    "        ]\n",
    "    ]\n",
    "\n",
    "# Normalize time to always start from the 0.\n",
    "# hyp2_var[\"time\"] = hyp2_var\\\n",
    "#     .groupby([\"participant\", \"trial\"])[\"time\"]\\\n",
    "#     .transform(lambda x: x - x.min())\n",
    "\n",
    "hyp2_var[\"time\"] = hyp2_var\\\n",
    "    .groupby(\"trial\")[\"time\"]\\\n",
    "    .transform(lambda x: x - x.min())"
   ]
  },
  {
   "cell_type": "code",
   "execution_count": null,
   "metadata": {},
   "outputs": [],
   "source": [
    "hyp2_var.head()"
   ]
  },
  {
   "cell_type": "code",
   "execution_count": null,
   "metadata": {},
   "outputs": [],
   "source": [
    "def plot_blinks(\n",
    "        data: pd.DataFrame,\n",
    "        trial_id,\n",
    "    ):\n",
    "    before = data[data.trial == trial_id].assign(blinks_removed='No')\n",
    "    after = remove_blinks(before).assign(blinks_removed='Yes')\n",
    "    hlp = pd.concat([before, after])\n",
    "\n",
    "    g = sns.relplot(\n",
    "        data=hlp, \n",
    "        x='time', y='lp',\n",
    "        kind='line',\n",
    "        row='blinks_removed',\n",
    "        aspect=3\n",
    "    )\n",
    "    g.set_xlabels(\"Time (ms)\")\n",
    "    g.set_ylabels(\"Pupil size\")\n",
    "    g.axes[0, 0].set_title(f\"Pupil size as measured :trial {trial_id}\")\n",
    "    g.axes[1, 0].set_title(\"Pupil size with blinks removed :trial {trial_id}\");"
   ]
  },
  {
   "cell_type": "code",
   "execution_count": null,
   "metadata": {},
   "outputs": [],
   "source": [
    "plot_blinks(hyp2_var, \"009\")"
   ]
  },
  {
   "cell_type": "code",
   "execution_count": null,
   "metadata": {},
   "outputs": [],
   "source": [
    "plot_blinks(hyp2_var, \"106\")"
   ]
  },
  {
   "cell_type": "code",
   "execution_count": null,
   "metadata": {},
   "outputs": [],
   "source": [
    "plot_blinks(hyp2_var, \"058\")"
   ]
  },
  {
   "cell_type": "code",
   "execution_count": null,
   "metadata": {},
   "outputs": [],
   "source": [
    "before = hyp2_var[hyp2_var.trial == '006'].assign(blinks_removed='No')\n",
    "after = remove_blinks(before).assign(blinks_removed='Yes')\n",
    "hlp = pd.concat([before, after])\n",
    "\n",
    "g = sns.relplot(\n",
    "    data=hlp, \n",
    "    x='time', y='lp',\n",
    "    kind='line',\n",
    "    row='blinks_removed',\n",
    "    aspect=3\n",
    ")\n",
    "g.set_xlabels(\"Time (ms)\")\n",
    "g.set_ylabels(\"Pupil size\")\n",
    "g.axes[0, 0].set_title(\"Pupil size as measured\"plot_blinks)\n",
    "g.axes[1, 0].set_title(\"Pupil size with blinks removed\");"
   ]
  },
  {
   "cell_type": "code",
   "execution_count": null,
   "metadata": {},
   "outputs": [],
   "source": [
    "# hyp2_var_avg_pupil = hyp2_var\\\n",
    "#     .groupby([\"participant\", \"trial\"])\\\n",
    "#     .apply(remove_blinks)\\\n",
    "#     .reset_index(drop=True)\\\n",
    "#     .groupby([\"participant\", \"trial\", \"task\"])\\\n",
    "#     .agg(avg_rp=(\"rp\", np.mean))\\\n",
    "#     .reset_index()\\\n",
    "#     .drop(\"trial\", axis=1)\n",
    "hyp2_var_avg_pupil = hyp2_var\\\n",
    "    .groupby(\"trial\")\\\n",
    "    .apply(remove_blinks)\\\n",
    "    .reset_index(drop=True)\\\n",
    "    .groupby([\"trial\", \"task\"])\\\n",
    "    .agg(avg_lp=(\"lp\", np.mean))\\\n",
    "    .reset_index()\\\n",
    "    .drop(\"trial\", axis=1)"
   ]
  },
  {
   "cell_type": "code",
   "execution_count": null,
   "metadata": {},
   "outputs": [],
   "source": [
    "hyp2_var"
   ]
  },
  {
   "cell_type": "code",
   "execution_count": null,
   "metadata": {},
   "outputs": [],
   "source": [
    "hyp2_var_avg_pupil.head()"
   ]
  },
  {
   "cell_type": "code",
   "execution_count": null,
   "metadata": {},
   "outputs": [],
   "source": [
    "hyp2_var_avg_pupil.groupby(\"task\").describe().round(decimals=2)"
   ]
  },
  {
   "cell_type": "code",
   "execution_count": null,
   "metadata": {},
   "outputs": [],
   "source": [
    "g = sns.displot(\n",
    "    data=hyp2_var_avg_pupil,\n",
    "    x='avg_lp',\n",
    "    hue='task',\n",
    "    col=\"task\",\n",
    "    kde=True,\n",
    "    )\n",
    "g.set_xlabels(\"Average left pupil size\")\n",
    "g.set_ylabels(\"Count\")"
   ]
  },
  {
   "cell_type": "code",
   "execution_count": null,
   "metadata": {
    "tags": []
   },
   "outputs": [],
   "source": [
    "hyp2_var_avg_pupil.head()"
   ]
  },
  {
   "cell_type": "code",
   "execution_count": null,
   "metadata": {},
   "outputs": [],
   "source": [
    "for alt_task in [\"Natural\", \"Puzzle\", \"Waldo\"]:\n",
    "    ttest_result = stats.ttest_rel(\n",
    "        hyp2_var_avg_pupil[hyp2_var_avg_pupil.task == \"Blank\"].avg_lp,\n",
    "        hyp2_var_avg_pupil[hyp2_var_avg_pupil.task == alt_task].avg_lp,\n",
    "    )\n",
    "    \n",
    "    wilcoxon_result = stats.ranksums(hyp2_var_avg_pupil[hyp2_var_avg_pupil.task == \"Blank\"].avg_lp,\n",
    "        hyp2_var_avg_pupil[hyp2_var_avg_pupil.task == alt_task].avg_lp\n",
    "        )\n",
    "    \n",
    "    print(ttest_result)\n",
    "    print(wilcoxon_result)"
   ]
  },
  {
   "cell_type": "markdown",
   "metadata": {},
   "source": [
    "## Data manipulation\n",
    "\n",
    "This is an optional section, in which you could describe, what did you do with the data to obtain given format. In our example, we just need to merge the data. Additionally, we want to detect fixations"
   ]
  },
  {
   "cell_type": "code",
   "execution_count": null,
   "metadata": {},
   "outputs": [],
   "source": [
    "from etra import detect\n",
    "\n",
    "df_hyp1_samples = pd.concat([df_fix_puzzle, df_fix_waldo]).rename(\n",
    "    {\"Time\": \"time\", \"trial_id\": \"trial\", \"LXpix\": \"x\", \"LYpix\": \"y\"}, axis=1)\n",
    "df_hyp1_samples[\"time\"] = df_hyp1_samples.groupby([\"participant_id\", \"trial\"])[\"time\"].transform(lambda x: x - x.min())\n",
    "\n",
    "df_hyp1_fix = []\n",
    "groups = df_hyp1_samples.groupby([\"participant_id\", \"trial\"])\n",
    "for (pid, trial), group in groups:\n",
    "    tmp = detect(group)\n",
    "    tmp = tmp[tmp[\"label\"] == \"FIXA\"]\n",
    "    tmp[\"participant_id\"] = pid\n",
    "    tmp[\"trial\"] = trial\n",
    "    df_hyp1_fix.append(tmp)\n",
    "\n",
    "df_hyp1_fix = pd.concat(df_hyp1_fix)\n",
    "df_hyp1_fix = df_hyp1_samples[\n",
    "    [\"participant_id\", \"trial\", \"fv_fixation\", \"task_type\", \"stimulus_id\"]].drop_duplicates().merge(df_hyp1_fix, on=[\n",
    "    \"participant_id\", \"trial\"], how=\"left\")"
   ]
  },
  {
   "cell_type": "code",
   "execution_count": null,
   "metadata": {},
   "outputs": [],
   "source": [
    "df_hyp1_fix.head()"
   ]
  },
  {
   "cell_type": "markdown",
   "metadata": {},
   "source": [
    "## Results\n",
    "\n",
    "In this section, describe statistical test that you used for testing your hypotheses. In general, the selection of statistical test depends on the type of variable.\n",
    "\n",
    "There are following types of variables:\n",
    "\n",
    "* Continuous - when the variable behaves as number. All fixation durations, pupil size, time are continuous variables\n",
    "* Ordinal - variables do not behave as numbers, but you can order them. Grades in school are typical example. You can't say how many times is 1 better than 2, but you can say that 1 is better grade than 2. There are no nominal variables in this dataset, so I added this description only for completeness.\n",
    "* Nominal - when variables are qualitative different. Type of task is an example of nominal variable\n",
    "\n",
    "In the case of two variables, there are following options\n",
    "* both variables continuous - regression or correlation (in R function `lm()` or `cor`/`cor.test` )\n",
    "* both variables nominal - contingency tables a chi square test\n",
    "* one variable nominal, other continuous - this is very common, this type is used, when we compare differences two condition - in this case, we use t.tests\n",
    "\n",
    "There are three main types of t.tests\n",
    "\n",
    "* Independent t-test - both groups contain independent data points (each data point is a different entity)\n",
    "* Paired t-test - data points are linked to each other. This is typical example, when we measure same subjects multiple times\n",
    "* One sample t-test - we are testing the sample against some theoretically interesting number\n",
    "\n",
    "In case of more than two variables, we need to use ANOVAs. Usually, one variable will be dependent (outcome, the one which levels interest us) and others will be independent (predictors, the one, that we manipulate).\n",
    "* For more than two groups, we use between-subject ANOVA\n",
    "* For more than two measurement of same subject, we use within-subject ANOVA\n",
    "* We can combine multiple between- and within-subject factors into mixed ANOVA\n",
    "\n",
    "In our case, the simplest way how to test that is to aggregate data per each trial and use t-tests"
   ]
  },
  {
   "cell_type": "markdown",
   "metadata": {},
   "source": [
    "### using t-tests\n",
    "\n",
    "Because we have multiple data points from each participant, we can first aggregate data for each trial"
   ]
  },
  {
   "cell_type": "code",
   "execution_count": null,
   "metadata": {},
   "outputs": [],
   "source": [
    "avg_durations = df_hyp1_fix.assign(dur=lambda x: x.end_time - x.start_time)\\\n",
    "    .groupby([\"task_type\", \"trial\"])\\\n",
    "    .agg(avg_dur=(\"dur\", \"mean\"))\\\n",
    "    .reset_index()\n",
    "avg_durations"
   ]
  },
  {
   "cell_type": "code",
   "execution_count": null,
   "metadata": {},
   "outputs": [],
   "source": [
    "ttest_result = stats.ttest_rel(\n",
    "    avg_durations[avg_durations.task_type == \"Puzzle\"].avg_dur,\n",
    "    avg_durations[avg_durations.task_type == \"Waldo\"].avg_dur,\n",
    ")"
   ]
  },
  {
   "cell_type": "code",
   "execution_count": null,
   "metadata": {},
   "outputs": [],
   "source": [
    "%%jinja markdown\n",
    "\n",
    "Results show that there is no difference between Fixation duration in Where is Waldo and Puzzle (pvalue={{\"{:.3}\".format(ttest_result.pvalue)}})"
   ]
  }
 ],
 "metadata": {
  "kernelspec": {
   "display_name": "Python 3 (ipykernel)",
   "language": "python",
   "name": "python3"
  },
  "language_info": {
   "codemirror_mode": {
    "name": "ipython",
    "version": 3
   },
   "file_extension": ".py",
   "mimetype": "text/x-python",
   "name": "python",
   "nbconvert_exporter": "python",
   "pygments_lexer": "ipython3",
   "version": "3.11.2"
  },
  "vscode": {
   "interpreter": {
    "hash": "e7370f93d1d0cde622a1f8e1c04877d8463912d04d973331ad4851f04de6915a"
   }
  }
 },
 "nbformat": 4,
 "nbformat_minor": 4
}
